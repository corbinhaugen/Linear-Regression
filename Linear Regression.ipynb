{
 "cells": [
  {
   "cell_type": "code",
   "execution_count": 1,
   "metadata": {},
   "outputs": [],
   "source": [
    "# Import all necessary packages\n",
    "# import ... as ... allows you to change the name of the package on the fly\n",
    "# That way you can shorten long pacakge names\n",
    "\n",
    "import pandas as pd\n",
    "import numpy as np\n",
    "import matplotlib.pyplot as plt"
   ]
  },
  {
   "cell_type": "markdown",
   "metadata": {},
   "source": [
    "# Import data"
   ]
  },
  {
   "cell_type": "code",
   "execution_count": 2,
   "metadata": {},
   "outputs": [],
   "source": [
    "data = pd.read_excel('Python Problem.xlsx')"
   ]
  },
  {
   "cell_type": "code",
   "execution_count": 3,
   "metadata": {},
   "outputs": [
    {
     "data": {
      "text/html": [
       "<div>\n",
       "<style scoped>\n",
       "    .dataframe tbody tr th:only-of-type {\n",
       "        vertical-align: middle;\n",
       "    }\n",
       "\n",
       "    .dataframe tbody tr th {\n",
       "        vertical-align: top;\n",
       "    }\n",
       "\n",
       "    .dataframe thead th {\n",
       "        text-align: right;\n",
       "    }\n",
       "</style>\n",
       "<table border=\"1\" class=\"dataframe\">\n",
       "  <thead>\n",
       "    <tr style=\"text-align: right;\">\n",
       "      <th></th>\n",
       "      <th>X</th>\n",
       "      <th>y</th>\n",
       "    </tr>\n",
       "  </thead>\n",
       "  <tbody>\n",
       "    <tr>\n",
       "      <th>0</th>\n",
       "      <td>0.454811</td>\n",
       "      <td>0.448547</td>\n",
       "    </tr>\n",
       "    <tr>\n",
       "      <th>1</th>\n",
       "      <td>0.731871</td>\n",
       "      <td>0.645367</td>\n",
       "    </tr>\n",
       "    <tr>\n",
       "      <th>2</th>\n",
       "      <td>0.612790</td>\n",
       "      <td>0.598740</td>\n",
       "    </tr>\n",
       "    <tr>\n",
       "      <th>3</th>\n",
       "      <td>0.360758</td>\n",
       "      <td>0.465771</td>\n",
       "    </tr>\n",
       "    <tr>\n",
       "      <th>4</th>\n",
       "      <td>0.345281</td>\n",
       "      <td>0.373506</td>\n",
       "    </tr>\n",
       "  </tbody>\n",
       "</table>\n",
       "</div>"
      ],
      "text/plain": [
       "          X         y\n",
       "0  0.454811  0.448547\n",
       "1  0.731871  0.645367\n",
       "2  0.612790  0.598740\n",
       "3  0.360758  0.465771\n",
       "4  0.345281  0.373506"
      ]
     },
     "execution_count": 3,
     "metadata": {},
     "output_type": "execute_result"
    }
   ],
   "source": [
    "# Check that the file was read in properly and see what \n",
    "data.head()"
   ]
  },
  {
   "cell_type": "code",
   "execution_count": 4,
   "metadata": {},
   "outputs": [
    {
     "data": {
      "text/plain": [
       "<matplotlib.axes._subplots.AxesSubplot at 0xc76e030>"
      ]
     },
     "execution_count": 4,
     "metadata": {},
     "output_type": "execute_result"
    },
    {
     "data": {
      "image/png": "[encoded data removed]",
      "text/plain": [
       "<Figure size 432x288 with 1 Axes>"
      ]
     },
     "metadata": {
      "needs_background": "light"
     },
     "output_type": "display_data"
    }
   ],
   "source": [
    "data.plot(kind='scatter',x = 'X', y = 'y')"
   ]
  },
  {
   "cell_type": "markdown",
   "metadata": {},
   "source": [
    "# Calculate slope and offset of linear regression\n"
   ]
  },
  {
   "cell_type": "markdown",
   "metadata": {},
   "source": [
    "$$ m = \\frac{\\sum{y_i x_i}-\\bar{y}\\sum{x_i}}{\\sum{x_i^2}-\\bar{x}\\sum{x_i}} $$\n",
    "\n",
    "$$ b = \\frac{\\bar{y}\\sum{x_i^2}-\\bar{x}\\sum{y_i x_i}}{\\sum{x_i^2}-\\bar{x}\\sum{x_i}} $$"
   ]
  },
  {
   "cell_type": "code",
   "execution_count": 5,
   "metadata": {},
   "outputs": [
    {
     "name": "stdout",
     "output_type": "stream",
     "text": [
      "0.9796x + 0.0000\n"
     ]
    }
   ],
   "source": [
    "slope = (np.sum(data['X'] * data['y']) - np.mean(data['y']) * np.sum(data['X'])) / \\\n",
    "        (np.sum(data['X']**2) - np.mean(data['X']) * np.sum(data['X']))\n",
    "\n",
    "offset = (np.mean(data['y']) * np.sum(data['X']**2) - np.mean(data['X']) * np.sum(data['y'] * data['X'])) / \\\n",
    "         (np.sum(data['X'])**2 + np.mean(data['X']) * np.sum(data['X']))\n",
    "\n",
    "print('{:.4f}x + {:.4f}'.format(slope, offset))"
   ]
  },
  {
   "cell_type": "code",
   "execution_count": 6,
   "metadata": {},
   "outputs": [],
   "source": [
    "# Create polynomial with calculated coefficients\n",
    "lin_reg = np.poly1d([slope, offset])\n",
    "\n",
    "# Add calculated regression line to dataframe\n",
    "data['Linear Regression'] = lin_reg(data['X'])\n",
    "\n",
    "# Calculate R^2 value\n",
    "def r_squared(x, y, y_fit):\n",
    "    res = y-y_fit\n",
    "    ss_res = np.sum(res**2)\n",
    "    ss_tot = np.sum((y-np.mean(y))**2)\n",
    "    r_sq = 1 - (ss_res / ss_tot)\n",
    "    return r_sq\n",
    "\n",
    "lin_reg_r2 = r_squared(data['X'], data['y'], data['Linear Regression'])"
   ]
  },
  {
   "cell_type": "code",
   "execution_count": 7,
   "metadata": {},
   "outputs": [
    {
     "data": {
      "image/png": "[encoded data removed]",
      "text/plain": [
       "<Figure size 432x288 with 1 Axes>"
      ]
     },
     "metadata": {
      "needs_background": "light"
     },
     "output_type": "display_data"
    }
   ],
   "source": [
    "# Plot the data\n",
    "ax = plt.gca()\n",
    "\n",
    "data.plot(kind='scatter', x = 'X', y = 'y', ax=ax)\n",
    "data.plot(kind='line', x = 'X', y = 'Linear Regression', color = 'red',  ax=ax)\n",
    "\n",
    "plt.title('{:.4f}x + {:.4f}, R^2 = {}'.format(slope, offset, lin_reg_r2))\n",
    "plt.show()"
   ]
  },
  {
   "cell_type": "code",
   "execution_count": null,
   "metadata": {},
   "outputs": [],
   "source": []
  }
 ],
 "metadata": {
  "kernelspec": {
   "display_name": "Python 3",
   "language": "python",
   "name": "python3"
  },
  "language_info": {
   "codemirror_mode": {
    "name": "ipython",
    "version": 3
   },
   "file_extension": ".py",
   "mimetype": "text/x-python",
   "name": "python",
   "nbconvert_exporter": "python",
   "pygments_lexer": "ipython3",
   "version": "3.6.5"
  }
 },
 "nbformat": 4,
 "nbformat_minor": 2
}
